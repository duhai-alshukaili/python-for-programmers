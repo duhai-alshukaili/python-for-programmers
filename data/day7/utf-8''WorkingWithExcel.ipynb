{
  "cells": [
    {
      "metadata": {
        "collapsed": true
      },
      "cell_type": "markdown",
      "source": "\n# Working With CSV and Exel\n\nExamples are adopted from \n* [Automate the Boring Stuff with Python, 2nd ed.](https://automatetheboringstuff.com/)\n* [RealPython](https://realpython.com/python-csv/)"
    },
    {
      "metadata": {},
      "cell_type": "markdown",
      "source": "## Working with `csv` files"
    },
    {
      "metadata": {
        "trusted": true
      },
      "cell_type": "code",
      "source": "# using with statement\nf = open(\"employee_birthday.txt\" )\ndata = f.read()\nprint(data)\nf.close()\n\nprint()\n\nwith open(\"employee_birthday.txt\") as f:\n    data = f.read()\n    print(data)\n    f.close()",
      "execution_count": 1,
      "outputs": [
        {
          "output_type": "stream",
          "text": "name,department,birthday month\nJohn Smith,Accounting,November\nErica Meyers,IT,March\n\nname,department,birthday month\nJohn Smith,Accounting,November\nErica Meyers,IT,March\n",
          "name": "stdout"
        }
      ]
    },
    {
      "metadata": {
        "trusted": true
      },
      "cell_type": "code",
      "source": "# reading\nimport csv\n\nwith open(\"employee_birthday.txt\") as csv_file:\n    csv_reader = csv.reader(csv_file, \n                            delimiter=\",\", quotechar='\"')\n    line_count = 0\n    for row in csv_reader:\n        if line_count == 0:\n            print(\"Column name: \" + \",\".join(row))\n            line_count+=1\n        else:\n            print(\"{0} Works for {1} and was born on {2}\".format(\n                row[0], row[1], row[2]))\n            line_count+=1\n            ",
      "execution_count": 9,
      "outputs": [
        {
          "output_type": "stream",
          "text": "Column name: name,department,birthday month\nJohn Smith Works for Accounting and was born on November\nErica Meyers Works for IT and was born on March\n",
          "name": "stdout"
        }
      ]
    },
    {
      "metadata": {
        "trusted": true
      },
      "cell_type": "code",
      "source": "# writing\nwith open(\"employee_birthday.txt\", \"a\") as csv_file:\n    csv_writer = csv.writer(csv_file, \n                           delimiter=\",\", quotechar='\"')\n    \n    csv_writer.writerow(['John Doe', 'HR', 'December'])\n    csv_writer.writerow(['Juma Al Sabti', 'Admin', 'March'])",
      "execution_count": 12,
      "outputs": []
    },
    {
      "metadata": {},
      "cell_type": "markdown",
      "source": "## Using `openpyxl` "
    },
    {
      "metadata": {
        "trusted": true
      },
      "cell_type": "code",
      "source": "import openpyxl as xl\nwb = xl.load_workbook(\"example.xlsx\") # create workbook object\ntype(wb)",
      "execution_count": 13,
      "outputs": [
        {
          "output_type": "execute_result",
          "execution_count": 13,
          "data": {
            "text/plain": "openpyxl.workbook.workbook.Workbook"
          },
          "metadata": {}
        }
      ]
    },
    {
      "metadata": {
        "trusted": true
      },
      "cell_type": "code",
      "source": "wb.sheetnames  # get a list of the workbook's sheets",
      "execution_count": 14,
      "outputs": [
        {
          "output_type": "execute_result",
          "execution_count": 14,
          "data": {
            "text/plain": "['Sheet1', 'Sheet2', 'Sheet3']"
          },
          "metadata": {}
        }
      ]
    },
    {
      "metadata": {
        "trusted": true
      },
      "cell_type": "code",
      "source": "sheet = wb[\"Sheet1\"] # sheet now points to Sheet1 in the excel file\ntype(sheet)\nprint(sheet.title)",
      "execution_count": 15,
      "outputs": [
        {
          "output_type": "stream",
          "text": "Sheet1\n",
          "name": "stdout"
        }
      ]
    },
    {
      "metadata": {
        "trusted": true
      },
      "cell_type": "code",
      "source": "sheet[\"A1\"] # get the cell from the sheet\nprint(sheet[\"A1\"].value)",
      "execution_count": 16,
      "outputs": [
        {
          "output_type": "stream",
          "text": "2015-04-05 13:34:02\n",
          "name": "stdout"
        }
      ]
    },
    {
      "metadata": {
        "trusted": true
      },
      "cell_type": "code",
      "source": "type(sheet[\"A1\"].value) # type is recognized automatically",
      "execution_count": 17,
      "outputs": [
        {
          "output_type": "execute_result",
          "execution_count": 17,
          "data": {
            "text/plain": "datetime.datetime"
          },
          "metadata": {}
        }
      ]
    },
    {
      "metadata": {
        "trusted": true
      },
      "cell_type": "code",
      "source": "c = sheet[\"B1\"] # get another cell\nprint(c.value)",
      "execution_count": 18,
      "outputs": [
        {
          "output_type": "stream",
          "text": "Apples\n",
          "name": "stdout"
        }
      ]
    },
    {
      "metadata": {
        "trusted": true
      },
      "cell_type": "code",
      "source": "# Get the row, column and value\nprint(\"Row {0}, Column {1} is {2}\".format(c.row, c.column, c.value))",
      "execution_count": 19,
      "outputs": [
        {
          "output_type": "stream",
          "text": "Row 1, Column B is Apples\n",
          "name": "stdout"
        }
      ]
    },
    {
      "metadata": {
        "trusted": true
      },
      "cell_type": "code",
      "source": "print(\"Cell {0} is {1}\".format(c.coordinate, c.value))",
      "execution_count": 20,
      "outputs": [
        {
          "output_type": "stream",
          "text": "Cell B1 is Apples\n",
          "name": "stdout"
        }
      ]
    },
    {
      "metadata": {
        "trusted": true
      },
      "cell_type": "code",
      "source": "# cell(row, column) # 1 indexed\nprint(sheet.cell(row=1, column=2).value)",
      "execution_count": 21,
      "outputs": [
        {
          "output_type": "stream",
          "text": "Apples\n",
          "name": "stdout"
        }
      ]
    },
    {
      "metadata": {
        "trusted": true
      },
      "cell_type": "code",
      "source": "for i in range(1, 8, 2): #  go through every other row\n    print(i, sheet.cell(row=i, column=2).value)",
      "execution_count": 22,
      "outputs": [
        {
          "output_type": "stream",
          "text": "1 Apples\n3 Pears\n5 Apples\n7 Strawberries\n",
          "name": "stdout"
        }
      ]
    },
    {
      "metadata": {
        "trusted": true
      },
      "cell_type": "code",
      "source": "print(\"Heighest row:\", sheet.max_row) # get the highest row number\nprint(\"Heighest column:\", sheet.max_column) # get the  highest colum number",
      "execution_count": 24,
      "outputs": [
        {
          "output_type": "stream",
          "text": "Heighest row: 7\nHeighest column: 3\n",
          "name": "stdout"
        }
      ]
    },
    {
      "metadata": {},
      "cell_type": "markdown",
      "source": "## Creating and Saving Excel Dcoument"
    },
    {
      "metadata": {
        "trusted": true
      },
      "cell_type": "code",
      "source": "wb = xl.Workbook() # create a blank workbook\nprint(wb.sheetnames) # it starts with one sheet",
      "execution_count": 43,
      "outputs": [
        {
          "output_type": "stream",
          "text": "['Sheet']\n",
          "name": "stdout"
        }
      ]
    },
    {
      "metadata": {
        "trusted": true
      },
      "cell_type": "code",
      "source": "sheet = wb.active # get the active worksheet\nprint(sheet.title)\nsheet.title = \"My Favorite Foods\" # change the sheet title\nprint(sheet.title)",
      "execution_count": 44,
      "outputs": [
        {
          "output_type": "stream",
          "text": "Sheet\nMy Favorite Foods\n",
          "name": "stdout"
        }
      ]
    },
    {
      "metadata": {
        "trusted": true
      },
      "cell_type": "code",
      "source": "column_names = [\"Food\", \"Likeness\"]\nfoods = {\"Pizza\": 6, \"Pasta\": 6, \"Greek Salad\": 7, \"Burger\": 9}\n\n# print the columns\nfor col, value in enumerate(column_names, 1):\n    c = sheet.cell(row=1, column=col)\n    c.value = value\n\nmaxr = sheet.max_row\nprint(maxr)\n\n# print the data rows\nfor r, f in enumerate(foods.items(), maxr + 1):\n    c1 = sheet.cell(row=r, column=1)\n    c1.value = f[0]\n    \n    c2 = sheet.cell(row=r, column=2)\n    c2.value = f[1]\n    ",
      "execution_count": 45,
      "outputs": [
        {
          "output_type": "stream",
          "text": "1\n",
          "name": "stdout"
        }
      ]
    },
    {
      "metadata": {
        "trusted": true
      },
      "cell_type": "code",
      "source": "wb.save(\"foods.xlsx\")",
      "execution_count": 46,
      "outputs": []
    },
    {
      "metadata": {
        "trusted": true
      },
      "cell_type": "code",
      "source": "",
      "execution_count": null,
      "outputs": []
    }
  ],
  "metadata": {
    "kernelspec": {
      "name": "python36",
      "display_name": "Python 3.6",
      "language": "python"
    },
    "language_info": {
      "mimetype": "text/x-python",
      "nbconvert_exporter": "python",
      "name": "python",
      "pygments_lexer": "ipython3",
      "version": "3.6.6",
      "file_extension": ".py",
      "codemirror_mode": {
        "version": 3,
        "name": "ipython"
      }
    }
  },
  "nbformat": 4,
  "nbformat_minor": 2
}